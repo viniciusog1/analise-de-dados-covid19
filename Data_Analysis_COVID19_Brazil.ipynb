{
 "cells": [
  {
   "cell_type": "markdown",
   "metadata": {
    "id": "_t80FLJuXKTr"
   },
   "source": [
    "Dataset disponível em: https://www.kaggle.com/datasets/unanimad/corona-virus-brazil"
   ]
  },
  {
   "cell_type": "code",
   "execution_count": 2,
   "metadata": {
    "id": "-y6GkMrZXERI"
   },
   "outputs": [],
   "source": [
    "# Importanto as bibiliotecas necessárias para esse projeto.\n",
    "import pandas as pd\n",
    "import numpy as np\n",
    "from datetime import datetime\n",
    "import plotly.express as px\n",
    "import plotly.graph_objects as go\n",
    "import re"
   ]
  },
  {
   "cell_type": "code",
   "execution_count": 3,
   "metadata": {
    "id": "enbd---iXU6f"
   },
   "outputs": [],
   "source": [
    "# Realiza a leitura do arquivo CSV, converte a coluna 'Date' em Data e separa as colunas por vírgula(,).\n",
    "archive = 'brazil_covid19.csv'\n",
    "df = pd.read_csv(archive, parse_dates=['date'], sep=',')"
   ]
  },
  {
   "cell_type": "code",
   "execution_count": 4,
   "metadata": {
    "colab": {
     "base_uri": "https://localhost:8080/",
     "height": 206
    },
    "id": "46A1o964Ycc6",
    "outputId": "c23e2149-7277-433e-a8b1-13566d9e24fa"
   },
   "outputs": [
    {
     "data": {
      "text/html": [
       "<div>\n",
       "<style scoped>\n",
       "    .dataframe tbody tr th:only-of-type {\n",
       "        vertical-align: middle;\n",
       "    }\n",
       "\n",
       "    .dataframe tbody tr th {\n",
       "        vertical-align: top;\n",
       "    }\n",
       "\n",
       "    .dataframe thead th {\n",
       "        text-align: right;\n",
       "    }\n",
       "</style>\n",
       "<table border=\"1\" class=\"dataframe\">\n",
       "  <thead>\n",
       "    <tr style=\"text-align: right;\">\n",
       "      <th></th>\n",
       "      <th>date</th>\n",
       "      <th>region</th>\n",
       "      <th>state</th>\n",
       "      <th>cases</th>\n",
       "      <th>deaths</th>\n",
       "    </tr>\n",
       "  </thead>\n",
       "  <tbody>\n",
       "    <tr>\n",
       "      <th>0</th>\n",
       "      <td>2020-02-25</td>\n",
       "      <td>Centro-Oeste</td>\n",
       "      <td>DF</td>\n",
       "      <td>0.0</td>\n",
       "      <td>0</td>\n",
       "    </tr>\n",
       "    <tr>\n",
       "      <th>1</th>\n",
       "      <td>2020-02-25</td>\n",
       "      <td>Centro-Oeste</td>\n",
       "      <td>GO</td>\n",
       "      <td>0.0</td>\n",
       "      <td>0</td>\n",
       "    </tr>\n",
       "    <tr>\n",
       "      <th>2</th>\n",
       "      <td>2020-02-25</td>\n",
       "      <td>Centro-Oeste</td>\n",
       "      <td>MS</td>\n",
       "      <td>0.0</td>\n",
       "      <td>0</td>\n",
       "    </tr>\n",
       "    <tr>\n",
       "      <th>3</th>\n",
       "      <td>2020-02-25</td>\n",
       "      <td>Centro-Oeste</td>\n",
       "      <td>MT</td>\n",
       "      <td>0.0</td>\n",
       "      <td>0</td>\n",
       "    </tr>\n",
       "    <tr>\n",
       "      <th>4</th>\n",
       "      <td>2020-02-25</td>\n",
       "      <td>Nordeste</td>\n",
       "      <td>AL</td>\n",
       "      <td>0.0</td>\n",
       "      <td>0</td>\n",
       "    </tr>\n",
       "    <tr>\n",
       "      <th>...</th>\n",
       "      <td>...</td>\n",
       "      <td>...</td>\n",
       "      <td>...</td>\n",
       "      <td>...</td>\n",
       "      <td>...</td>\n",
       "    </tr>\n",
       "    <tr>\n",
       "      <th>12253</th>\n",
       "      <td>2021-05-23</td>\n",
       "      <td>Sudeste</td>\n",
       "      <td>RJ</td>\n",
       "      <td>840480.0</td>\n",
       "      <td>49515</td>\n",
       "    </tr>\n",
       "    <tr>\n",
       "      <th>12254</th>\n",
       "      <td>2021-05-23</td>\n",
       "      <td>Sudeste</td>\n",
       "      <td>SP</td>\n",
       "      <td>3188105.0</td>\n",
       "      <td>107614</td>\n",
       "    </tr>\n",
       "    <tr>\n",
       "      <th>12255</th>\n",
       "      <td>2021-05-23</td>\n",
       "      <td>Sul</td>\n",
       "      <td>PR</td>\n",
       "      <td>1060683.0</td>\n",
       "      <td>25506</td>\n",
       "    </tr>\n",
       "    <tr>\n",
       "      <th>12256</th>\n",
       "      <td>2021-05-23</td>\n",
       "      <td>Sul</td>\n",
       "      <td>RS</td>\n",
       "      <td>1059990.0</td>\n",
       "      <td>27419</td>\n",
       "    </tr>\n",
       "    <tr>\n",
       "      <th>12257</th>\n",
       "      <td>2021-05-23</td>\n",
       "      <td>Sul</td>\n",
       "      <td>SC</td>\n",
       "      <td>947810.0</td>\n",
       "      <td>14822</td>\n",
       "    </tr>\n",
       "  </tbody>\n",
       "</table>\n",
       "<p>12258 rows × 5 columns</p>\n",
       "</div>"
      ],
      "text/plain": [
       "            date        region state      cases  deaths\n",
       "0     2020-02-25  Centro-Oeste    DF        0.0       0\n",
       "1     2020-02-25  Centro-Oeste    GO        0.0       0\n",
       "2     2020-02-25  Centro-Oeste    MS        0.0       0\n",
       "3     2020-02-25  Centro-Oeste    MT        0.0       0\n",
       "4     2020-02-25      Nordeste    AL        0.0       0\n",
       "...          ...           ...   ...        ...     ...\n",
       "12253 2021-05-23       Sudeste    RJ   840480.0   49515\n",
       "12254 2021-05-23       Sudeste    SP  3188105.0  107614\n",
       "12255 2021-05-23           Sul    PR  1060683.0   25506\n",
       "12256 2021-05-23           Sul    RS  1059990.0   27419\n",
       "12257 2021-05-23           Sul    SC   947810.0   14822\n",
       "\n",
       "[12258 rows x 5 columns]"
      ]
     },
     "metadata": {},
     "output_type": "display_data"
    }
   ],
   "source": [
    "# Vamos dar uma 'primeira olhada' em nossos dados para entender como eles se parecem e como trabalharemos com eles.\n",
    "# Iremos análisar apartir do primeiro caso confirmado e a coluna 'cases' está no tipo float, devemos converter para int\n",
    "display(df)"
   ]
  },
  {
   "cell_type": "code",
   "execution_count": 5,
   "metadata": {
    "id": "rto6KVriXqtg"
   },
   "outputs": [],
   "source": [
    "# Filtragem para receber o dataframe apenas com os registros que possuem casos confirmados maior que 0.\n",
    "df = df.loc[(df.cases > 0)]\n",
    "\n",
    "# Com os dados filtrados agora precisamos criar um novo index.\n",
    "df = df.reset_index() \n",
    "df = df.drop('index', axis = 1)\n",
    "\n",
    "# Converter a coluna 'cases' para o tipo int.\n",
    "df['cases'] = df['cases'].astype(int)"
   ]
  },
  {
   "cell_type": "code",
   "execution_count": 10,
   "metadata": {
    "colab": {
     "base_uri": "https://localhost:8080/",
     "height": 206
    },
    "id": "KPc6GOU50LPe",
    "outputId": "1c0ee7d3-d70d-4958-d1f9-538514207309",
    "scrolled": true
   },
   "outputs": [
    {
     "data": {
      "text/html": [
       "<div>\n",
       "<style scoped>\n",
       "    .dataframe tbody tr th:only-of-type {\n",
       "        vertical-align: middle;\n",
       "    }\n",
       "\n",
       "    .dataframe tbody tr th {\n",
       "        vertical-align: top;\n",
       "    }\n",
       "\n",
       "    .dataframe thead th {\n",
       "        text-align: right;\n",
       "    }\n",
       "</style>\n",
       "<table border=\"1\" class=\"dataframe\">\n",
       "  <thead>\n",
       "    <tr style=\"text-align: right;\">\n",
       "      <th></th>\n",
       "      <th>date</th>\n",
       "      <th>region</th>\n",
       "      <th>state</th>\n",
       "      <th>cases</th>\n",
       "      <th>deaths</th>\n",
       "    </tr>\n",
       "  </thead>\n",
       "  <tbody>\n",
       "    <tr>\n",
       "      <th>0</th>\n",
       "      <td>2020-02-26</td>\n",
       "      <td>Sudeste</td>\n",
       "      <td>SP</td>\n",
       "      <td>1</td>\n",
       "      <td>0</td>\n",
       "    </tr>\n",
       "    <tr>\n",
       "      <th>1</th>\n",
       "      <td>2020-02-27</td>\n",
       "      <td>Sudeste</td>\n",
       "      <td>SP</td>\n",
       "      <td>1</td>\n",
       "      <td>0</td>\n",
       "    </tr>\n",
       "    <tr>\n",
       "      <th>2</th>\n",
       "      <td>2020-02-28</td>\n",
       "      <td>Sudeste</td>\n",
       "      <td>SP</td>\n",
       "      <td>1</td>\n",
       "      <td>0</td>\n",
       "    </tr>\n",
       "    <tr>\n",
       "      <th>3</th>\n",
       "      <td>2020-02-29</td>\n",
       "      <td>Sudeste</td>\n",
       "      <td>SP</td>\n",
       "      <td>2</td>\n",
       "      <td>0</td>\n",
       "    </tr>\n",
       "    <tr>\n",
       "      <th>4</th>\n",
       "      <td>2020-03-01</td>\n",
       "      <td>Sudeste</td>\n",
       "      <td>SP</td>\n",
       "      <td>2</td>\n",
       "      <td>0</td>\n",
       "    </tr>\n",
       "    <tr>\n",
       "      <th>5</th>\n",
       "      <td>2020-03-02</td>\n",
       "      <td>Sudeste</td>\n",
       "      <td>SP</td>\n",
       "      <td>2</td>\n",
       "      <td>0</td>\n",
       "    </tr>\n",
       "    <tr>\n",
       "      <th>6</th>\n",
       "      <td>2020-03-03</td>\n",
       "      <td>Sudeste</td>\n",
       "      <td>SP</td>\n",
       "      <td>2</td>\n",
       "      <td>0</td>\n",
       "    </tr>\n",
       "    <tr>\n",
       "      <th>7</th>\n",
       "      <td>2020-03-04</td>\n",
       "      <td>Sudeste</td>\n",
       "      <td>SP</td>\n",
       "      <td>3</td>\n",
       "      <td>0</td>\n",
       "    </tr>\n",
       "    <tr>\n",
       "      <th>8</th>\n",
       "      <td>2020-03-05</td>\n",
       "      <td>Sudeste</td>\n",
       "      <td>RJ</td>\n",
       "      <td>1</td>\n",
       "      <td>0</td>\n",
       "    </tr>\n",
       "    <tr>\n",
       "      <th>9</th>\n",
       "      <td>2020-03-05</td>\n",
       "      <td>Sudeste</td>\n",
       "      <td>SP</td>\n",
       "      <td>6</td>\n",
       "      <td>0</td>\n",
       "    </tr>\n",
       "  </tbody>\n",
       "</table>\n",
       "</div>"
      ],
      "text/plain": [
       "        date   region state  cases  deaths\n",
       "0 2020-02-26  Sudeste    SP      1       0\n",
       "1 2020-02-27  Sudeste    SP      1       0\n",
       "2 2020-02-28  Sudeste    SP      1       0\n",
       "3 2020-02-29  Sudeste    SP      2       0\n",
       "4 2020-03-01  Sudeste    SP      2       0\n",
       "5 2020-03-02  Sudeste    SP      2       0\n",
       "6 2020-03-03  Sudeste    SP      2       0\n",
       "7 2020-03-04  Sudeste    SP      3       0\n",
       "8 2020-03-05  Sudeste    RJ      1       0\n",
       "9 2020-03-05  Sudeste    SP      6       0"
      ]
     },
     "metadata": {},
     "output_type": "display_data"
    }
   ],
   "source": [
    "display(df.head(10))"
   ]
  },
  {
   "cell_type": "code",
   "execution_count": 11,
   "metadata": {},
   "outputs": [],
   "source": [
    "total_region = df.drop(labels='state', axis=1)"
   ]
  },
  {
   "cell_type": "code",
   "execution_count": 13,
   "metadata": {},
   "outputs": [],
   "source": [
    "total_region = df.groupby('region').sum()"
   ]
  },
  {
   "cell_type": "code",
   "execution_count": 14,
   "metadata": {},
   "outputs": [
    {
     "data": {
      "text/html": [
       "<div>\n",
       "<style scoped>\n",
       "    .dataframe tbody tr th:only-of-type {\n",
       "        vertical-align: middle;\n",
       "    }\n",
       "\n",
       "    .dataframe tbody tr th {\n",
       "        vertical-align: top;\n",
       "    }\n",
       "\n",
       "    .dataframe thead th {\n",
       "        text-align: right;\n",
       "    }\n",
       "</style>\n",
       "<table border=\"1\" class=\"dataframe\">\n",
       "  <thead>\n",
       "    <tr style=\"text-align: right;\">\n",
       "      <th></th>\n",
       "      <th>cases</th>\n",
       "      <th>deaths</th>\n",
       "    </tr>\n",
       "    <tr>\n",
       "      <th>region</th>\n",
       "      <th></th>\n",
       "      <th></th>\n",
       "    </tr>\n",
       "  </thead>\n",
       "  <tbody>\n",
       "    <tr>\n",
       "      <th>Centro-Oeste</th>\n",
       "      <td>278342655</td>\n",
       "      <td>6040613</td>\n",
       "    </tr>\n",
       "    <tr>\n",
       "      <th>Nordeste</th>\n",
       "      <td>635542369</td>\n",
       "      <td>16758359</td>\n",
       "    </tr>\n",
       "    <tr>\n",
       "      <th>Norte</th>\n",
       "      <td>295100691</td>\n",
       "      <td>7203570</td>\n",
       "    </tr>\n",
       "    <tr>\n",
       "      <th>Sudeste</th>\n",
       "      <td>918241551</td>\n",
       "      <td>31828340</td>\n",
       "    </tr>\n",
       "    <tr>\n",
       "      <th>Sul</th>\n",
       "      <td>428751385</td>\n",
       "      <td>8063441</td>\n",
       "    </tr>\n",
       "  </tbody>\n",
       "</table>\n",
       "</div>"
      ],
      "text/plain": [
       "                  cases    deaths\n",
       "region                           \n",
       "Centro-Oeste  278342655   6040613\n",
       "Nordeste      635542369  16758359\n",
       "Norte         295100691   7203570\n",
       "Sudeste       918241551  31828340\n",
       "Sul           428751385   8063441"
      ]
     },
     "execution_count": 14,
     "metadata": {},
     "output_type": "execute_result"
    }
   ],
   "source": [
    "total_region"
   ]
  },
  {
   "cell_type": "code",
   "execution_count": 6,
   "metadata": {
    "id": "MrFMIBU8XcLh"
   },
   "outputs": [],
   "source": [
    "# Número total de casos e mortes por região.\n",
    "totalPerRegion = df.groupby('region').sum()\n",
    "# Número total de casos.\n",
    "totalCases  = totalPerRegion['cases'].sum()\n",
    "# Número total de mortes.\n",
    "totalDeaths = totalPerRegion['deaths'].sum()"
   ]
  },
  {
   "cell_type": "code",
   "execution_count": 7,
   "metadata": {
    "id": "KBqBv_YAMM4i"
   },
   "outputs": [],
   "source": [
    "# Dataframe mostrando a evolução total dos números de casos e mortes por região.\n",
    "dateRegion_group = df.groupby(['date', 'region']).sum()\n",
    "dateRegion_group = dateRegion_group.reset_index()"
   ]
  },
  {
   "cell_type": "code",
   "execution_count": 17,
   "metadata": {},
   "outputs": [],
   "source": [
    "dateRegion_group.to_csv('total_por_regiao.csv')"
   ]
  },
  {
   "cell_type": "code",
   "execution_count": 8,
   "metadata": {},
   "outputs": [],
   "source": [
    "dateTotal_group = df.drop(labels=['region', 'state'], axis=1)\n",
    "dateTotal_group = dateTotal_group.groupby('date').sum()"
   ]
  },
  {
   "cell_type": "code",
   "execution_count": 9,
   "metadata": {
    "scrolled": false
   },
   "outputs": [
    {
     "data": {
      "text/html": [
       "<div>\n",
       "<style scoped>\n",
       "    .dataframe tbody tr th:only-of-type {\n",
       "        vertical-align: middle;\n",
       "    }\n",
       "\n",
       "    .dataframe tbody tr th {\n",
       "        vertical-align: top;\n",
       "    }\n",
       "\n",
       "    .dataframe thead th {\n",
       "        text-align: right;\n",
       "    }\n",
       "</style>\n",
       "<table border=\"1\" class=\"dataframe\">\n",
       "  <thead>\n",
       "    <tr style=\"text-align: right;\">\n",
       "      <th></th>\n",
       "      <th>cases</th>\n",
       "      <th>deaths</th>\n",
       "    </tr>\n",
       "    <tr>\n",
       "      <th>date</th>\n",
       "      <th></th>\n",
       "      <th></th>\n",
       "    </tr>\n",
       "  </thead>\n",
       "  <tbody>\n",
       "    <tr>\n",
       "      <th>2020-02-26</th>\n",
       "      <td>1</td>\n",
       "      <td>0</td>\n",
       "    </tr>\n",
       "    <tr>\n",
       "      <th>2020-02-27</th>\n",
       "      <td>1</td>\n",
       "      <td>0</td>\n",
       "    </tr>\n",
       "    <tr>\n",
       "      <th>2020-02-28</th>\n",
       "      <td>1</td>\n",
       "      <td>0</td>\n",
       "    </tr>\n",
       "    <tr>\n",
       "      <th>2020-02-29</th>\n",
       "      <td>2</td>\n",
       "      <td>0</td>\n",
       "    </tr>\n",
       "    <tr>\n",
       "      <th>2020-03-01</th>\n",
       "      <td>2</td>\n",
       "      <td>0</td>\n",
       "    </tr>\n",
       "    <tr>\n",
       "      <th>...</th>\n",
       "      <td>...</td>\n",
       "      <td>...</td>\n",
       "    </tr>\n",
       "    <tr>\n",
       "      <th>2021-05-19</th>\n",
       "      <td>15812055</td>\n",
       "      <td>441691</td>\n",
       "    </tr>\n",
       "    <tr>\n",
       "      <th>2021-05-20</th>\n",
       "      <td>15894094</td>\n",
       "      <td>444094</td>\n",
       "    </tr>\n",
       "    <tr>\n",
       "      <th>2021-05-21</th>\n",
       "      <td>15970949</td>\n",
       "      <td>446309</td>\n",
       "    </tr>\n",
       "    <tr>\n",
       "      <th>2021-05-22</th>\n",
       "      <td>16047439</td>\n",
       "      <td>448208</td>\n",
       "    </tr>\n",
       "    <tr>\n",
       "      <th>2021-05-23</th>\n",
       "      <td>16083258</td>\n",
       "      <td>449068</td>\n",
       "    </tr>\n",
       "  </tbody>\n",
       "</table>\n",
       "<p>453 rows × 2 columns</p>\n",
       "</div>"
      ],
      "text/plain": [
       "               cases  deaths\n",
       "date                        \n",
       "2020-02-26         1       0\n",
       "2020-02-27         1       0\n",
       "2020-02-28         1       0\n",
       "2020-02-29         2       0\n",
       "2020-03-01         2       0\n",
       "...              ...     ...\n",
       "2021-05-19  15812055  441691\n",
       "2021-05-20  15894094  444094\n",
       "2021-05-21  15970949  446309\n",
       "2021-05-22  16047439  448208\n",
       "2021-05-23  16083258  449068\n",
       "\n",
       "[453 rows x 2 columns]"
      ]
     },
     "metadata": {},
     "output_type": "display_data"
    }
   ],
   "source": [
    "display(dateTotal_group)"
   ]
  },
  {
   "cell_type": "code",
   "execution_count": 18,
   "metadata": {},
   "outputs": [],
   "source": [
    "dateTotal_group.to_csv('total_por_data.csv')"
   ]
  },
  {
   "cell_type": "code",
   "execution_count": null,
   "metadata": {
    "colab": {
     "base_uri": "https://localhost:8080/",
     "height": 34
    },
    "id": "MsxfyMIu1Ucg",
    "outputId": "d28583df-c18a-4afe-9b56-f17fb8935eda",
    "scrolled": true
   },
   "outputs": [],
   "source": [
    "display(dateRegion_group)"
   ]
  },
  {
   "cell_type": "markdown",
   "metadata": {},
   "source": [
    "Site salvador: https://www.sharpsightlabs.com/blog/python-data-analysis-covid19-calculate-new-cases/"
   ]
  },
  {
   "cell_type": "code",
   "execution_count": null,
   "metadata": {},
   "outputs": [],
   "source": [
    "# Consulta para receber os novos casos diários do dataframe.\n",
    "novos_casos_por_estado = (df\n",
    "                           .sort_values(by = ['region', 'state', 'date'])\n",
    "                           .filter(['region','state', 'date', 'cases'])\n",
    "                           .groupby(['region', 'state'])\n",
    "                           .cases\n",
    "                           .diff()\n",
    "                         )\n",
    "\n",
    "# Consulta para receber as novas mortes diárias do dataframe.\n",
    "novas_mortes_por_estado = (df\n",
    "                           .sort_values(by = ['region', 'state', 'date'])\n",
    "                           .filter(['region','state', 'date', 'deaths'])\n",
    "                           .groupby(['region', 'state'])\n",
    "                           .deaths\n",
    "                           .diff()\n",
    "                         )\n"
   ]
  },
  {
   "cell_type": "code",
   "execution_count": null,
   "metadata": {},
   "outputs": [],
   "source": [
    "# Atribui a consulta para uma nova coluna que será criada no dataframe.\n",
    "df = df.assign(new_cases_per_state = novos_casos_por_estado, new_deaths_per_state = novas_mortes_por_estado)\n",
    "# Preenche todos os valores NaN como 0.\n",
    "df = df.fillna(0)\n",
    "\n",
    "df['new_cases_per_state']  = df['new_cases_per_state'].astype(int)\n",
    "df['new_deaths_per_state'] = df['new_deaths_per_state'].astype(int)"
   ]
  },
  {
   "cell_type": "code",
   "execution_count": null,
   "metadata": {},
   "outputs": [],
   "source": [
    "df['deaths'] = df['deaths'].astype(int)"
   ]
  },
  {
   "cell_type": "code",
   "execution_count": null,
   "metadata": {},
   "outputs": [],
   "source": [
    "df.query('region in [\"Sudeste\"]')"
   ]
  },
  {
   "cell_type": "code",
   "execution_count": null,
   "metadata": {},
   "outputs": [],
   "source": [
    "df.dtypes"
   ]
  },
  {
   "cell_type": "code",
   "execution_count": null,
   "metadata": {},
   "outputs": [],
   "source": [
    "dateTotal_group.head()"
   ]
  },
  {
   "cell_type": "code",
   "execution_count": null,
   "metadata": {},
   "outputs": [],
   "source": [
    "df.head()"
   ]
  },
  {
   "cell_type": "code",
   "execution_count": null,
   "metadata": {
    "scrolled": true
   },
   "outputs": [],
   "source": [
    "df.loc[(df['date'] == '2020-03-09')]"
   ]
  },
  {
   "cell_type": "code",
   "execution_count": null,
   "metadata": {},
   "outputs": [],
   "source": [
    "#df.to_csv('dados_covid_tratados.csv')"
   ]
  }
 ],
 "metadata": {
  "colab": {
   "provenance": []
  },
  "kernelspec": {
   "display_name": "Python 3 (ipykernel)",
   "language": "python",
   "name": "python3"
  },
  "language_info": {
   "codemirror_mode": {
    "name": "ipython",
    "version": 3
   },
   "file_extension": ".py",
   "mimetype": "text/x-python",
   "name": "python",
   "nbconvert_exporter": "python",
   "pygments_lexer": "ipython3",
   "version": "3.9.13"
  }
 },
 "nbformat": 4,
 "nbformat_minor": 1
}
